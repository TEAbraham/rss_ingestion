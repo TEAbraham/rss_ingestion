{
 "cells": [
  {
   "cell_type": "markdown",
   "metadata": {},
   "source": [
    "### SSS - RSS Ingestion ###"
   ]
  },
  {
   "cell_type": "markdown",
   "metadata": {},
   "source": [
    "*Super simple script (SSS) on getting data from a RSS feed*"
   ]
  },
  {
   "cell_type": "markdown",
   "metadata": {},
   "source": [
    "Import the libraries"
   ]
  },
  {
   "cell_type": "code",
   "execution_count": 1,
   "metadata": {
    "collapsed": true
   },
   "outputs": [],
   "source": [
    "import bs4\n",
    "import feedparser\n",
    "from slugify import slugify\n",
    "import os"
   ]
  },
  {
   "cell_type": "markdown",
   "metadata": {},
   "source": [
    "Set the source - the rss feed you would like to get data from"
   ]
  },
  {
   "cell_type": "code",
   "execution_count": 2,
   "metadata": {
    "collapsed": true
   },
   "outputs": [],
   "source": [
    "feeds = ['http://blog.kaggle.com/feed/']"
   ]
  },
  {
   "cell_type": "markdown",
   "metadata": {},
   "source": [
    "Get feeds from the first source above"
   ]
  },
  {
   "cell_type": "code",
   "execution_count": 3,
   "metadata": {},
   "outputs": [],
   "source": [
    "parsed = feedparser.parse(feeds[0])"
   ]
  },
  {
   "cell_type": "markdown",
   "metadata": {},
   "source": [
    "Breaks up the parsed rss feed into posts"
   ]
  },
  {
   "cell_type": "code",
   "execution_count": 4,
   "metadata": {
    "collapsed": true
   },
   "outputs": [],
   "source": [
    "posts = parsed.entries"
   ]
  },
  {
   "cell_type": "markdown",
   "metadata": {},
   "source": [
    "Get the first post"
   ]
  },
  {
   "cell_type": "code",
   "execution_count": 5,
   "metadata": {},
   "outputs": [
    {
     "data": {
      "text/plain": [
       "{'author': 'Paul Mooney',\n",
       " 'author_detail': {'name': 'Paul Mooney'},\n",
       " 'authors': [{'name': 'Paul Mooney'}],\n",
       " 'comments': 'http://blog.kaggle.com/2018/07/26/data-notes-winning-solutions-of-kaggle-competitions/#respond',\n",
       " 'content': [{'base': 'http://blog.kaggle.com/feed/',\n",
       "   'language': None,\n",
       "   'type': 'text/html',\n",
       "   'value': '<img width=\"1024\" height=\"576\" src=\"http://s5047.pcdn.co/wp-content/uploads/2018/07/fauzan-saari-687564-unsplash-1024x576.jpg\" class=\"webfeedsFeaturedVisual wp-post-image\" alt=\"\" style=\"display: block; margin: auto; margin-bottom: 15px;max-width: 100%;\" srcset=\"http://s5047.pcdn.co/wp-content/uploads/2018/07/fauzan-saari-687564-unsplash-1024x576.jpg 1024w, http://s5047.pcdn.co/wp-content/uploads/2018/07/fauzan-saari-687564-unsplash-300x169.jpg 300w, http://s5047.pcdn.co/wp-content/uploads/2018/07/fauzan-saari-687564-unsplash-768x432.jpg 768w, http://s5047.pcdn.co/wp-content/uploads/2018/07/fauzan-saari-687564-unsplash-100x56.jpg 100w, http://s5047.pcdn.co/wp-content/uploads/2018/07/fauzan-saari-687564-unsplash-1184x666.jpg 1184w\" sizes=\"(max-width: 1024px) 100vw, 1024px\" /><h1 style=\"text-align: center;\"><b>Welcome to Kaggle Data Notes!</b></h1>\\n<p style=\"text-align: center;\"><i><span style=\"font-weight: 400;\">Winners, tumors, and avocados: Enjoy these new, intriguing, and overlooked datasets and kernels.</span></i></p>\\n<p>&nbsp;</p>\\n<p style=\"text-align: center;\">1.\\xa0<img src=\"https://s.w.org/images/core/emoji/2.4/72x72/1f3c6.png\" alt=\"🏆\" class=\"wp-smiley\" style=\"height: 1em; max-height: 1em;\" /> Winning Solutions of Kaggle Competitions (<a href=\"https://goo.gl/5eit12\">link</a>)</p>\\n<p style=\"text-align: center;\">2.\\xa0<img src=\"https://s.w.org/images/core/emoji/2.4/72x72/1f3e5.png\" alt=\"🏥\" class=\"wp-smiley\" style=\"height: 1em; max-height: 1em;\" /> Tumor Diagnosis - Neural Net from First Principles (<a href=\"https://goo.gl/JzVmAh\">link</a>)</p>\\n<p style=\"text-align: center;\">3.\\xa0<img src=\"https://s.w.org/images/core/emoji/2.4/72x72/1f494.png\" alt=\"💔\" class=\"wp-smiley\" style=\"height: 1em; max-height: 1em;\" /> Cardiomegaly Pretrained VGG16 (<a href=\"https://goo.gl/uqrkzv\">link</a>)</p>\\n<p style=\"text-align: center;\">4.\\xa0<img src=\"https://s.w.org/images/core/emoji/2.4/72x72/1f637.png\" alt=\"😷\" class=\"wp-smiley\" style=\"height: 1em; max-height: 1em;\" /> Xception Model for Chest X-Rays (<a href=\"https://goo.gl/sn7jTE\">link</a>)</p>\\n<p style=\"text-align: center;\">5.\\xa0<img src=\"https://s.w.org/images/core/emoji/2.4/72x72/1f951.png\" alt=\"\\U0001f951\" class=\"wp-smiley\" style=\"height: 1em; max-height: 1em;\" /> Predicting Prices of Avocados (<a href=\"https://goo.gl/D4VcNh\">link</a>)</p>\\n<p style=\"text-align: center;\">6.\\xa0<img src=\"https://s.w.org/images/core/emoji/2.4/72x72/1f4f1.png\" alt=\"📱\" class=\"wp-smiley\" style=\"height: 1em; max-height: 1em;\" /> Visual Analysis of Apps on AppleStore (<a href=\"https://goo.gl/iMBK6W\">link</a>)</p>\\n<p style=\"text-align: center;\">7.\\xa0<img src=\"https://s.w.org/images/core/emoji/2.4/72x72/1f6b2.png\" alt=\"🚲\" class=\"wp-smiley\" style=\"height: 1em; max-height: 1em;\" /> The Beautiful Tour de France (<a href=\"https://goo.gl/TzSLz2\">link</a>)</p>\\n<p style=\"text-align: center;\">8.\\xa0<img src=\"https://s.w.org/images/core/emoji/2.4/72x72/1f4f8.png\" alt=\"📸\" class=\"wp-smiley\" style=\"height: 1em; max-height: 1em;\" /> Dataset: NIH DeepLesion Subset (<a href=\"https://goo.gl/pV6A3G\">link</a>)</p>\\n<p style=\"text-align: center;\">9.\\xa0<img src=\"https://s.w.org/images/core/emoji/2.4/72x72/1f4c8.png\" alt=\"📈\" class=\"wp-smiley\" style=\"height: 1em; max-height: 1em;\" /> Dataset: Financial Tweets (<a href=\"https://goo.gl/WcRHEB\">link</a>)</p>\\n<p style=\"text-align: center;\">10.\\xa0<img src=\"https://s.w.org/images/core/emoji/2.4/72x72/1f913.png\" alt=\"🤓\" class=\"wp-smiley\" style=\"height: 1em; max-height: 1em;\" /> Dataset: Face Detection in Images (<a href=\"https://goo.gl/M9C7u4\">link</a>)</p>\\n<h1 style=\"text-align: center;\"><b>Technique of the week</b></h1>\\n<p style=\"text-align: center;\"><img class=\"alignnone size-medium wp-image-7171\" src=\"http://s5047.pcdn.co/wp-content/uploads/2018/07/Screen-Shot-2018-07-27-at-3.49.46-PM-300x226.png\" alt=\"\" width=\"300\" height=\"226\" srcset=\"http://s5047.pcdn.co/wp-content/uploads/2018/07/Screen-Shot-2018-07-27-at-3.49.46-PM-300x226.png 300w, http://s5047.pcdn.co/wp-content/uploads/2018/07/Screen-Shot-2018-07-27-at-3.49.46-PM-100x75.png 100w, http://s5047.pcdn.co/wp-content/uploads/2018/07/Screen-Shot-2018-07-27-at-3.49.46-PM.png 748w\" sizes=\"(max-width: 300px) 100vw, 300px\" /></p>\\n<p style=\"text-align: center;\"><span style=\"font-weight: 400;\">Interested in financial data? </span><a href=\"https://goo.gl/cVbduf\"><span style=\"font-weight: 400;\">Here\\'s an overview</span></a><span style=\"font-weight: 400;\"> of methods for working with a time series!</span></p>\\n<p style=\"text-align: center;\"><i><span style=\"font-weight: 400;\">Copyright © 2018 Kaggle, All rights reserved.</span></i></p>'}],\n",
       " 'guidislink': False,\n",
       " 'id': 'http://blog.kaggle.com/?p=7165',\n",
       " 'link': 'http://blog.kaggle.com/2018/07/26/data-notes-winning-solutions-of-kaggle-competitions/',\n",
       " 'links': [{'href': 'http://blog.kaggle.com/2018/07/26/data-notes-winning-solutions-of-kaggle-competitions/',\n",
       "   'rel': 'alternate',\n",
       "   'type': 'text/html'}],\n",
       " 'published': 'Thu, 26 Jul 2018 22:28:25 +0000',\n",
       " 'published_parsed': time.struct_time(tm_year=2018, tm_mon=7, tm_mday=26, tm_hour=22, tm_min=28, tm_sec=25, tm_wday=3, tm_yday=207, tm_isdst=0),\n",
       " 'slash_comments': '0',\n",
       " 'summary': '<img width=\"1024\" height=\"576\" src=\"http://s5047.pcdn.co/wp-content/uploads/2018/07/fauzan-saari-687564-unsplash-1024x576.jpg\" class=\"webfeedsFeaturedVisual wp-post-image\" alt=\"\" style=\"display: block; margin: auto; margin-bottom: 15px;max-width: 100%;\" srcset=\"http://s5047.pcdn.co/wp-content/uploads/2018/07/fauzan-saari-687564-unsplash-1024x576.jpg 1024w, http://s5047.pcdn.co/wp-content/uploads/2018/07/fauzan-saari-687564-unsplash-300x169.jpg 300w, http://s5047.pcdn.co/wp-content/uploads/2018/07/fauzan-saari-687564-unsplash-768x432.jpg 768w, http://s5047.pcdn.co/wp-content/uploads/2018/07/fauzan-saari-687564-unsplash-100x56.jpg 100w, http://s5047.pcdn.co/wp-content/uploads/2018/07/fauzan-saari-687564-unsplash-1184x666.jpg 1184w\" sizes=\"(max-width: 1024px) 100vw, 1024px\" />Welcome to Kaggle Data Notes! Winners, tumors, and avocados: Enjoy these new, intriguing, and overlooked datasets and kernels. &#160; 1.\\xa0🏆 Winning Solutions of Kaggle Competitions (link) 2.\\xa0🏥 Tumor Diagnosis - Neural Net from First Principles (link) 3.\\xa0💔 Cardiomegaly Pretrained VGG16 (link) 4.\\xa0😷 Xception Model for Chest X-Rays (link) 5.\\xa0\\U0001f951 Predicting Prices of Avocados (link) 6.\\xa0📱 Visual Analysis of Apps on AppleStore (link) 7.\\xa0🚲 The Beautiful Tour de France (link) 8.\\xa0📸 Dataset: NIH DeepLesion Subset (link) 9.\\xa0📈 Dataset: Financial Tweets (link) ...',\n",
       " 'summary_detail': {'base': 'http://blog.kaggle.com/feed/',\n",
       "  'language': None,\n",
       "  'type': 'text/html',\n",
       "  'value': '<img width=\"1024\" height=\"576\" src=\"http://s5047.pcdn.co/wp-content/uploads/2018/07/fauzan-saari-687564-unsplash-1024x576.jpg\" class=\"webfeedsFeaturedVisual wp-post-image\" alt=\"\" style=\"display: block; margin: auto; margin-bottom: 15px;max-width: 100%;\" srcset=\"http://s5047.pcdn.co/wp-content/uploads/2018/07/fauzan-saari-687564-unsplash-1024x576.jpg 1024w, http://s5047.pcdn.co/wp-content/uploads/2018/07/fauzan-saari-687564-unsplash-300x169.jpg 300w, http://s5047.pcdn.co/wp-content/uploads/2018/07/fauzan-saari-687564-unsplash-768x432.jpg 768w, http://s5047.pcdn.co/wp-content/uploads/2018/07/fauzan-saari-687564-unsplash-100x56.jpg 100w, http://s5047.pcdn.co/wp-content/uploads/2018/07/fauzan-saari-687564-unsplash-1184x666.jpg 1184w\" sizes=\"(max-width: 1024px) 100vw, 1024px\" />Welcome to Kaggle Data Notes! Winners, tumors, and avocados: Enjoy these new, intriguing, and overlooked datasets and kernels. &#160; 1.\\xa0🏆 Winning Solutions of Kaggle Competitions (link) 2.\\xa0🏥 Tumor Diagnosis - Neural Net from First Principles (link) 3.\\xa0💔 Cardiomegaly Pretrained VGG16 (link) 4.\\xa0😷 Xception Model for Chest X-Rays (link) 5.\\xa0\\U0001f951 Predicting Prices of Avocados (link) 6.\\xa0📱 Visual Analysis of Apps on AppleStore (link) 7.\\xa0🚲 The Beautiful Tour de France (link) 8.\\xa0📸 Dataset: NIH DeepLesion Subset (link) 9.\\xa0📈 Dataset: Financial Tweets (link) ...'},\n",
       " 'tags': [{'label': None, 'scheme': None, 'term': 'Data Notes'}],\n",
       " 'title': 'Data Notes: Winning Solutions of Kaggle Competitions',\n",
       " 'title_detail': {'base': 'http://blog.kaggle.com/feed/',\n",
       "  'language': None,\n",
       "  'type': 'text/plain',\n",
       "  'value': 'Data Notes: Winning Solutions of Kaggle Competitions'},\n",
       " 'wfw_commentrss': 'http://blog.kaggle.com/2018/07/26/data-notes-winning-solutions-of-kaggle-competitions/feed/'}"
      ]
     },
     "execution_count": 5,
     "metadata": {},
     "output_type": "execute_result"
    }
   ],
   "source": [
    "posts[0]"
   ]
  },
  {
   "cell_type": "code",
   "execution_count": 6,
   "metadata": {},
   "outputs": [
    {
     "data": {
      "text/plain": [
       "'Data Notes: Winning Solutions of Kaggle Competitions'"
      ]
     },
     "execution_count": 6,
     "metadata": {},
     "output_type": "execute_result"
    }
   ],
   "source": [
    "posts[0].title"
   ]
  },
  {
   "cell_type": "markdown",
   "metadata": {},
   "source": [
    "As usual, we use the BeautifulSoup library again to get easy access to the items on the page by their tags"
   ]
  },
  {
   "cell_type": "code",
   "execution_count": 7,
   "metadata": {
    "collapsed": true
   },
   "outputs": [],
   "source": [
    "html = posts[0].content[0].get('value')\n",
    "soup = bs4.BeautifulSoup(html, 'html5lib')"
   ]
  },
  {
   "cell_type": "markdown",
   "metadata": {},
   "source": [
    "Now, we can easily access the items in the page using their tags with the helper functions in the BeautifulSoup library"
   ]
  },
  {
   "cell_type": "code",
   "execution_count": 8,
   "metadata": {
    "scrolled": true
   },
   "outputs": [
    {
     "data": {
      "text/plain": [
       "[<h1 style=\"text-align: center;\"><b>Welcome to Kaggle Data Notes!</b></h1>,\n",
       " <h1 style=\"text-align: center;\"><b>Technique of the week</b></h1>]"
      ]
     },
     "execution_count": 8,
     "metadata": {},
     "output_type": "execute_result"
    }
   ],
   "source": [
    "soup.find_all('h1')"
   ]
  }
 ],
 "metadata": {
  "kernelspec": {
   "display_name": "Python [conda env:pydata]",
   "language": "python",
   "name": "conda-env-pydata-py"
  },
  "language_info": {
   "codemirror_mode": {
    "name": "ipython",
    "version": 3
   },
   "file_extension": ".py",
   "mimetype": "text/x-python",
   "name": "python",
   "nbconvert_exporter": "python",
   "pygments_lexer": "ipython3",
   "version": "3.5.3"
  }
 },
 "nbformat": 4,
 "nbformat_minor": 2
}
